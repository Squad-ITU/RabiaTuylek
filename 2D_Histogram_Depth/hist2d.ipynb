{
 "cells": [
  {
   "cell_type": "code",
   "execution_count": 46,
   "id": "49d5ae66",
   "metadata": {},
   "outputs": [
    {
     "name": "stderr",
     "output_type": "stream",
     "text": [
      "Warning in <TCanvas::Constructor>: Deleting canvas with same name: c1\n",
      "Info in <TCanvas::Print>: pdf file 2dhist.pdf has been created\n"
     ]
    }
   ],
   "source": [
    "import ROOT\n",
    "import numpy as np\n",
    "from ROOT import TCanvas, TH2D, gStyle, TRandom\n",
    "import iphi \n",
    "\n",
    "etamx=14\n",
    "nphi=72\n",
    "\n",
    "c1 = TCanvas(\"c1\", \"\", 1200, 600)\n",
    "\n",
    "gStyle.SetOptStat(0)\n",
    "\n",
    "hist = []\n",
    "\n",
    "for jj in range(72):\n",
    "    hist_1 = TH2D(\"hist HEP {}\".format(jj), \"HE Radiation Damage Depth 1\", 14, 0, 20, 72, 0.5 ,72.5)\n",
    "    hist.append(hist_1)\n",
    "\n",
    "\n",
    "x = np.zeros(14)\n",
    "y = np.zeros((72,14))\n",
    "\n",
    "\n",
    "for i in range(72):\n",
    "    \n",
    "    y[i][0] = iphi.phi_true_raddam_0_1[0][i]\n",
    "    y[i][1] = iphi.phi_true_raddam_0_1[1][i]\n",
    "    y[i][2] = iphi.phi_true_raddam_0_1[2][i]\n",
    "    y[i][3] = iphi.phi_true_raddam_0_1[3][i]\n",
    "    y[i][4] = iphi.phi_true_raddam_0_1[4][i]\n",
    "    y[i][5] = iphi.phi_true_raddam_0_1[5][i]\n",
    "    y[i][6] = iphi.phi_true_raddam_0_1[6][i]\n",
    "    y[i][7] = iphi.phi_true_raddam_0_1[7][i]\n",
    "    y[i][8] = iphi.phi_true_raddam_0_1[8][i]\n",
    "    y[i][9] = iphi.phi_true_raddam_0_1[9][i]\n",
    "    y[i][10] = iphi.phi_true_raddam_0_1[10][i]\n",
    "    y[i][11] = iphi.phi_true_raddam_0_1[11][i]\n",
    "    y[i][12] = iphi.phi_true_raddam_0_1[12][i]\n",
    "    y[i][13] = iphi.phi_true_raddam_0_1[13][i]\n",
    "    \n",
    "\n",
    "for i in range(72):\n",
    "    for j in range(14):\n",
    "        hist[j].GetZaxis().SetRangeUser(0, 1.2)\n",
    "        hist[j].GetXaxis().SetTitle(\"ieta\")\n",
    "        hist[j].GetYaxis().SetTitle(\"iphi\")\n",
    "        hist[j].GetZaxis().SetTitle(\"Entries\")\n",
    "        hist[j].SetContour(1000)\n",
    "        x[j] = j\n",
    "        hist[j].Fill(x[j], i , y[i][j])\n",
    "        hist[j].Draw(\"colz\")\n",
    "\n",
    "c1.Print(\"2dhist.pdf\")\n",
    "\n"
   ]
  },
  {
   "cell_type": "code",
   "execution_count": null,
   "id": "fa1e3253",
   "metadata": {},
   "outputs": [],
   "source": []
  }
 ],
 "metadata": {
  "kernelspec": {
   "display_name": "Python 3 (ipykernel)",
   "language": "python",
   "name": "python3"
  },
  "language_info": {
   "codemirror_mode": {
    "name": "ipython",
    "version": 3
   },
   "file_extension": ".py",
   "mimetype": "text/x-python",
   "name": "python",
   "nbconvert_exporter": "python",
   "pygments_lexer": "ipython3",
   "version": "3.8.10"
  }
 },
 "nbformat": 4,
 "nbformat_minor": 5
}
